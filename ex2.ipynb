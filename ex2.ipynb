{
 "cells": [
  {
   "cell_type": "code",
   "execution_count": 1,
   "id": "0fa4923b-892d-45bb-a7af-9f82b2a33a19",
   "metadata": {},
   "outputs": [],
   "source": [
    "\n",
    "# 1. Import libraries\n",
    "import pandas as pd\n",
    "import numpy as np\n",
    "import seaborn as sns\n",
    "import matplotlib.pyplot as plt\n",
    "from sklearn.impute import SimpleImputer\n",
    "from sklearn.model_selection import train_test_split\n"
   ]
  },
  {
   "cell_type": "code",
   "execution_count": 2,
   "id": "13ca3c4a-f015-492b-aa53-0529a9f7355a",
   "metadata": {},
   "outputs": [],
   "source": [
    "# 2. Load the dataset (renamed as tested.csv)\n",
    "df = pd.read_csv('tested.csv') "
   ]
  },
  {
   "cell_type": "code",
   "execution_count": 3,
   "id": "19e4fdd2-d55c-42d2-a54b-0529949e59f4",
   "metadata": {},
   "outputs": [
    {
     "name": "stdout",
     "output_type": "stream",
     "text": [
      "Shape of data: (418, 12)\n",
      "\n",
      "Info:\n",
      "<class 'pandas.core.frame.DataFrame'>\n",
      "RangeIndex: 418 entries, 0 to 417\n",
      "Data columns (total 12 columns):\n",
      " #   Column       Non-Null Count  Dtype  \n",
      "---  ------       --------------  -----  \n",
      " 0   PassengerId  418 non-null    int64  \n",
      " 1   Survived     418 non-null    int64  \n",
      " 2   Pclass       418 non-null    int64  \n",
      " 3   Name         418 non-null    object \n",
      " 4   Sex          418 non-null    object \n",
      " 5   Age          332 non-null    float64\n",
      " 6   SibSp        418 non-null    int64  \n",
      " 7   Parch        418 non-null    int64  \n",
      " 8   Ticket       418 non-null    object \n",
      " 9   Fare         417 non-null    float64\n",
      " 10  Cabin        91 non-null     object \n",
      " 11  Embarked     418 non-null    object \n",
      "dtypes: float64(2), int64(5), object(5)\n",
      "memory usage: 39.3+ KB\n",
      "None\n",
      "\n",
      "Description:\n",
      "        PassengerId    Survived      Pclass                      Name   Sex  \\\n",
      "count    418.000000  418.000000  418.000000                       418   418   \n",
      "unique          NaN         NaN         NaN                       418     2   \n",
      "top             NaN         NaN         NaN  Peter, Master. Michael J  male   \n",
      "freq            NaN         NaN         NaN                         1   266   \n",
      "mean    1100.500000    0.363636    2.265550                       NaN   NaN   \n",
      "std      120.810458    0.481622    0.841838                       NaN   NaN   \n",
      "min      892.000000    0.000000    1.000000                       NaN   NaN   \n",
      "25%      996.250000    0.000000    1.000000                       NaN   NaN   \n",
      "50%     1100.500000    0.000000    3.000000                       NaN   NaN   \n",
      "75%     1204.750000    1.000000    3.000000                       NaN   NaN   \n",
      "max     1309.000000    1.000000    3.000000                       NaN   NaN   \n",
      "\n",
      "               Age       SibSp       Parch    Ticket        Fare  \\\n",
      "count   332.000000  418.000000  418.000000       418  417.000000   \n",
      "unique         NaN         NaN         NaN       363         NaN   \n",
      "top            NaN         NaN         NaN  PC 17608         NaN   \n",
      "freq           NaN         NaN         NaN         5         NaN   \n",
      "mean     30.272590    0.447368    0.392344       NaN   35.627188   \n",
      "std      14.181209    0.896760    0.981429       NaN   55.907576   \n",
      "min       0.170000    0.000000    0.000000       NaN    0.000000   \n",
      "25%      21.000000    0.000000    0.000000       NaN    7.895800   \n",
      "50%      27.000000    0.000000    0.000000       NaN   14.454200   \n",
      "75%      39.000000    1.000000    0.000000       NaN   31.500000   \n",
      "max      76.000000    8.000000    9.000000       NaN  512.329200   \n",
      "\n",
      "                  Cabin Embarked  \n",
      "count                91      418  \n",
      "unique               76        3  \n",
      "top     B57 B59 B63 B66        S  \n",
      "freq                  3      270  \n",
      "mean                NaN      NaN  \n",
      "std                 NaN      NaN  \n",
      "min                 NaN      NaN  \n",
      "25%                 NaN      NaN  \n",
      "50%                 NaN      NaN  \n",
      "75%                 NaN      NaN  \n",
      "max                 NaN      NaN  \n"
     ]
    }
   ],
   "source": [
    "# 3. Understand the data\n",
    "print(\"Shape of data:\", df.shape)\n",
    "print(\"\\nInfo:\")\n",
    "print(df.info())\n",
    "print(\"\\nDescription:\")\n",
    "print(df.describe(include='all'))"
   ]
  },
  {
   "cell_type": "code",
   "execution_count": 7,
   "id": "b396174e-35f6-4744-8d7f-c5041e81d320",
   "metadata": {},
   "outputs": [],
   "source": [
    "# 4. Fill missing Age values using SimpleImputer\n",
    "imputer = SimpleImputer(strategy='mean')\n",
    "df['Age'] = imputer.fit_transform(df[['Age']])\n"
   ]
  },
  {
   "cell_type": "code",
   "execution_count": 8,
   "id": "dfc40a54-acef-4504-91ba-e2b66338120a",
   "metadata": {},
   "outputs": [],
   "source": [
    "# 5. Fill missing Cabin values with \"Unknown\"\n",
    "df['Cabin'] = df['Cabin'].fillna('Unknown')"
   ]
  },
  {
   "cell_type": "code",
   "execution_count": 9,
   "id": "2eb778c2-58b4-4b9a-8a5d-90460359611c",
   "metadata": {},
   "outputs": [],
   "source": [
    "# 6. Fill missing Embarked with mode\n",
    "df['Embarked'] = df['Embarked'].fillna(df['Embarked'].mode()[0])"
   ]
  },
  {
   "cell_type": "code",
   "execution_count": 10,
   "id": "ef5e828f-c0d6-4ab8-b55d-98e51de031bf",
   "metadata": {},
   "outputs": [
    {
     "data": {
      "image/png": "[encoded data removed]",
      "text/plain": [
       "<Figure size 640x480 with 1 Axes>"
      ]
     },
     "metadata": {},
     "output_type": "display_data"
    }
   ],
   "source": [
    "# 7. Analyze the passenger Class using countplot\n",
    "sns.countplot(data=df, x='Pclass')\n",
    "plt.title(\"Passenger Class Distribution\")\n",
    "plt.show()"
   ]
  },
  {
   "cell_type": "code",
   "execution_count": 11,
   "id": "bf088b3a-c18d-4b94-b5b5-b55e95e0eb94",
   "metadata": {},
   "outputs": [
    {
     "name": "stdout",
     "output_type": "stream",
     "text": [
      "\n",
      "Female passengers who survived:\n",
      " 1                     Wilkes, Mrs. James (Ellen Needs)\n",
      "4         Hirvonen, Mrs. Alexander (Helga E Lindqvist)\n",
      "6                                 Connolly, Miss. Kate\n",
      "8            Abrahim, Mrs. Joseph (Sophie Halaut Easu)\n",
      "12       Snyder, Mrs. John Pillsbury (Nelle Stevenson)\n",
      "                            ...                       \n",
      "409                          Peacock, Miss. Treasteall\n",
      "410                             Naughton, Miss. Hannah\n",
      "411    Minahan, Mrs. William Edward (Lillian E Thorpe)\n",
      "412                     Henriksson, Miss. Jenny Lovisa\n",
      "414                       Oliva y Ocana, Dona. Fermina\n",
      "Name: Name, Length: 152, dtype: object\n"
     ]
    }
   ],
   "source": [
    "# 8. List names of female passengers who survived\n",
    "female_survivors = df[(df['Sex'] == 'female') & (df['Survived'] == 1)]\n",
    "print(\"\\nFemale passengers who survived:\\n\", female_survivors['Name'])"
   ]
  },
  {
   "cell_type": "code",
   "execution_count": 12,
   "id": "97e2a960-c474-41fe-ae57-937d9fefc1a6",
   "metadata": {},
   "outputs": [
    {
     "name": "stdout",
     "output_type": "stream",
     "text": [
      "\n",
      "3rd class passengers under 18:\n",
      "                                           Name    Age  Pclass\n",
      "5                   Svensson, Mr. Johan Cervin  14.00       3\n",
      "21                   Olsen, Master. Artur Karl   9.00       3\n",
      "55                        Rice, Master. Albert  10.00       3\n",
      "60                             Dika, Mr. Mirko  17.00       3\n",
      "80                        Boulos, Master. Akar   6.00       3\n",
      "104  Thomas, Mrs. Alexander (Thamine Thelma\")\"  16.00       3\n",
      "117            Sandstrom, Miss. Beatrice Irene   1.00       3\n",
      "125                   Cribb, Miss. Laura Alice  17.00       3\n",
      "140                Goodwin, Miss. Jessie Allis  10.00       3\n",
      "154               Asplund, Master. Filip Oscar  13.00       3\n",
      "161             Touma, Master. Georges Youssef   7.00       3\n",
      "187                         Davies, Mr. Joseph  17.00       3\n",
      "192          van Billiard, Master. Walter John  11.50       3\n",
      "201    Danbom, Master. Gilbert Sigvard Emanuel   0.33       3\n",
      "263               Klasen, Miss. Gertrud Emilia   1.00       3\n",
      "269                          Pokrnic, Mr. Mate  17.00       3\n",
      "281             Peacock, Master. Alfred Edward   0.75       3\n",
      "283                 Touma, Miss. Maria Youssef   9.00       3\n",
      "284                Rosblom, Miss. Salli Helena   2.00       3\n",
      "307                  Aks, Master. Philip Frank   0.83       3\n",
      "315                       Hagardon, Miss. Kate  17.00       3\n",
      "345                Abelseth, Miss. Karen Marie  16.00       3\n",
      "354    Dean, Miss. Elizabeth Gladys Millvina\"\"   0.17       3\n",
      "360                Sage, Master. William Henry  14.50       3\n",
      "379                Asplund, Master. Carl Edgar   5.00       3\n",
      "389                Palsson, Master. Paul Folke   6.00       3\n",
      "392              Abbott, Master. Eugene Joseph  13.00       3\n",
      "409                  Peacock, Miss. Treasteall   3.00       3\n"
     ]
    }
   ],
   "source": [
    "# 9. Passengers in 3rd class and under age 18\n",
    "third_class_under18 = df[(df['Pclass'] == 3) & (df['Age'] < 18)]\n",
    "print(\"\\n3rd class passengers under 18:\\n\", third_class_under18[['Name', 'Age', 'Pclass']])"
   ]
  },
  {
   "cell_type": "code",
   "execution_count": 13,
   "id": "81801430-3c34-49d5-9c0d-01ccd2566a5f",
   "metadata": {},
   "outputs": [
    {
     "name": "stdout",
     "output_type": "stream",
     "text": [
      "\n",
      "Class 1 passengers older than 40:\n",
      "                                                   Name   Age\n",
      "11                          Jones, Mr. Charles Cresson  46.0\n",
      "14   Chaffee, Mrs. Herbert Fuller (Carrie Constance...  47.0\n",
      "20                              Rothschild, Mr. Martin  55.0\n",
      "24     Ryerson, Mrs. Arthur Larned (Emily Maria Borie)  48.0\n",
      "28                             Brady, Mr. John Bertram  41.0\n",
      "44    Kimball, Mrs. Edwin Nelson Jr (Gertrude Parsons)  45.0\n",
      "46                            Chevre, Mr. Paul Romaine  45.0\n",
      "48     Bucknell, Mrs. William Robert (Emma Eliza Ward)  60.0\n",
      "67                      Moore, Mr. Clarence Bloomfield  47.0\n",
      "69                 Fortune, Mrs. Mark (Mary McDougald)  60.0\n",
      "77   Cornell, Mrs. Robert Clifford (Malvina Helen L...  55.0\n",
      "81                                  Straus, Mr. Isidor  67.0\n",
      "82                              Case, Mr. Howard Brown  49.0\n",
      "96   Cavendish, Mrs. Tyrell William (Julia Florence...  76.0\n",
      "100  Stengel, Mrs. Charles Emil Henry (Annie May Mo...  43.0\n",
      "114             Straus, Mrs. Isidor (Rosalie Ida Blun)  63.0\n",
      "131                          Gracie, Col. Archibald IV  53.0\n",
      "142                         Ryerson, Mr. Arthur Larned  61.0\n",
      "144  Lindeberg-Lind, Mr. Erik Gustaf (Mr Edward Lin...  42.0\n",
      "158                           Borebank, Mr. John James  42.0\n",
      "166                                 Brandeis, Mr. Emil  48.0\n",
      "177                    Stengel, Mr. Charles Emil Henry  54.0\n",
      "179  Compton, Mrs. Alexander Taylor (Mary Eliza Ing...  64.0\n",
      "202                             Astor, Col. John Jacob  47.0\n",
      "215                              Head, Mr. Christopher  42.0\n",
      "217                           Wick, Mr. George Dennick  57.0\n",
      "218       Widener, Mrs. George Dunton (Eleanor Elkins)  50.0\n",
      "224   Candee, Mrs. Edward (Helen Churchill Hungerford)  53.0\n",
      "236                           Warren, Mr. Frank Manley  64.0\n",
      "239        Douglas, Mrs. Walter Donald (Mahala Dutton)  48.0\n",
      "240          Lindstrom, Mrs. Carl Johan (Sigrid Posse)  55.0\n",
      "242                       Spedden, Mr. Frederic Oakley  45.0\n",
      "245                            Kenyon, Mr. Frederick R  41.0\n",
      "270                       McCaffry, Mr. Thomas Francis  46.0\n",
      "293                              Dodge, Dr. Washington  53.0\n",
      "305  Crosby, Mrs. Edward Gifford (Catherine Elizabe...  64.0\n",
      "308                         Hays, Mr. Charles Melville  55.0\n",
      "314              White, Mrs. John Stuart (Ella Holmes)  55.0\n",
      "316                      Spencer, Mr. William Augustus  57.0\n",
      "327        Rosenshine, Mr. George (Mr George Thorne\")\"  46.0\n",
      "343  Cardeza, Mrs. James Warburton Martinez (Charlo...  58.0\n",
      "350       Greenfield, Mrs. Leo David (Blanche Strouse)  45.0\n",
      "355                           Julian, Mr. Henry Forbes  50.0\n",
      "356     Brown, Mrs. John Murray (Caroline Lane Lamson)  59.0\n",
      "368            Gibson, Mrs. Leonard (Pauline C Boeson)  45.0\n",
      "372                            Ismay, Mr. Joseph Bruce  49.0\n",
      "374              Dodge, Mrs. Washington (Ruth Vidaver)  54.0\n",
      "375                           Bowen, Miss. Grace Scott  45.0\n",
      "378                        Hipkins, Mr. William Edward  55.0\n",
      "391     Lines, Mrs. Ernest H (Elizabeth Lindsey James)  51.0\n",
      "397  Frolicher-Stehli, Mrs. Maxmillian (Margaretha ...  48.0\n",
      "404                       Frauenthal, Mr. Isaac Gerald  43.0\n",
      "407                         Widener, Mr. George Dunton  50.0\n"
     ]
    }
   ],
   "source": [
    "# 10. Passengers in 1st class older than 40\n",
    "class1_above40 = df[(df['Pclass'] == 1) & (df['Age'] > 40)]\n",
    "print(\"\\nClass 1 passengers older than 40:\\n\", class1_above40[['Name', 'Age']])\n"
   ]
  },
  {
   "cell_type": "code",
   "execution_count": 14,
   "id": "e6fc1d24-359b-4a11-81d6-78fbf4c2ab8b",
   "metadata": {},
   "outputs": [
    {
     "name": "stdout",
     "output_type": "stream",
     "text": [
      "\n",
      "Survived Class 1 passengers older than 40:\n",
      "                                                   Name   Age\n",
      "14   Chaffee, Mrs. Herbert Fuller (Carrie Constance...  47.0\n",
      "24     Ryerson, Mrs. Arthur Larned (Emily Maria Borie)  48.0\n",
      "44    Kimball, Mrs. Edwin Nelson Jr (Gertrude Parsons)  45.0\n",
      "48     Bucknell, Mrs. William Robert (Emma Eliza Ward)  60.0\n",
      "69                 Fortune, Mrs. Mark (Mary McDougald)  60.0\n",
      "77   Cornell, Mrs. Robert Clifford (Malvina Helen L...  55.0\n",
      "96   Cavendish, Mrs. Tyrell William (Julia Florence...  76.0\n",
      "100  Stengel, Mrs. Charles Emil Henry (Annie May Mo...  43.0\n",
      "114             Straus, Mrs. Isidor (Rosalie Ida Blun)  63.0\n",
      "179  Compton, Mrs. Alexander Taylor (Mary Eliza Ing...  64.0\n",
      "218       Widener, Mrs. George Dunton (Eleanor Elkins)  50.0\n",
      "224   Candee, Mrs. Edward (Helen Churchill Hungerford)  53.0\n",
      "239        Douglas, Mrs. Walter Donald (Mahala Dutton)  48.0\n",
      "240          Lindstrom, Mrs. Carl Johan (Sigrid Posse)  55.0\n",
      "305  Crosby, Mrs. Edward Gifford (Catherine Elizabe...  64.0\n",
      "314              White, Mrs. John Stuart (Ella Holmes)  55.0\n",
      "343  Cardeza, Mrs. James Warburton Martinez (Charlo...  58.0\n",
      "350       Greenfield, Mrs. Leo David (Blanche Strouse)  45.0\n",
      "356     Brown, Mrs. John Murray (Caroline Lane Lamson)  59.0\n",
      "368            Gibson, Mrs. Leonard (Pauline C Boeson)  45.0\n",
      "374              Dodge, Mrs. Washington (Ruth Vidaver)  54.0\n",
      "375                           Bowen, Miss. Grace Scott  45.0\n",
      "391     Lines, Mrs. Ernest H (Elizabeth Lindsey James)  51.0\n",
      "397  Frolicher-Stehli, Mrs. Maxmillian (Margaretha ...  48.0\n"
     ]
    }
   ],
   "source": [
    "# 11. Survived passengers from above category\n",
    "survived_class1_above40 = class1_above40[class1_above40['Survived'] == 1]\n",
    "print(\"\\nSurvived Class 1 passengers older than 40:\\n\", survived_class1_above40[['Name', 'Age']])"
   ]
  },
  {
   "cell_type": "code",
   "execution_count": 15,
   "id": "82f4b663-6c9c-4841-ac20-293467e62a2b",
   "metadata": {},
   "outputs": [
    {
     "name": "stdout",
     "output_type": "stream",
     "text": [
      "\n",
      "Male passengers who paid fare > 100:\n",
      "                                      Name      Fare\n",
      "64            Ryerson, Master. John Borie  262.3750\n",
      "75                     Keeping, Mr. Edwin  211.5000\n",
      "81                     Straus, Mr. Isidor  221.7792\n",
      "142            Ryerson, Mr. Arthur Larned  262.3750\n",
      "196       Spedden, Master. Robert Douglas  134.5000\n",
      "202                Astor, Col. John Jacob  227.5250\n",
      "217              Wick, Mr. George Dennick  164.8667\n",
      "242          Spedden, Mr. Frederic Oakley  134.5000\n",
      "252              Clark, Mr. Walter Miller  136.7792\n",
      "306  Allison, Mr. Hudson Joshua Creighton  151.5500\n",
      "316         Spencer, Mr. William Augustus  146.5208\n",
      "407            Widener, Mr. George Dunton  211.5000\n"
     ]
    }
   ],
   "source": [
    "# 12. Male passengers who paid fare > 100\n",
    "high_fare_males = df[(df['Sex'] == 'male') & (df['Fare'] > 100)]\n",
    "print(\"\\nMale passengers who paid fare > 100:\\n\", high_fare_males[['Name', 'Fare']])"
   ]
  },
  {
   "cell_type": "code",
   "execution_count": 16,
   "id": "88f96542-e6de-4f4e-9e06-60175bece3a3",
   "metadata": {},
   "outputs": [
    {
     "name": "stdout",
     "output_type": "stream",
     "text": [
      "\n",
      "Passengers from port 'C' and Class 2:\n",
      "                                               Name Embarked  Pclass\n",
      "15   del Carlo, Mrs. Sebastiano (Argenia Genovesi)        C       2\n",
      "51                              Pulbaum, Mr. Franz        C       2\n",
      "54               Mangiavacchi, Mr. Serafino Emilio        C       2\n",
      "110                       Stanton, Mr. Samuel Ward        C       2\n",
      "220                 Duran y More, Miss. Florentina        C       2\n",
      "264         Portaluppi, Mr. Emilio Ilario Giuseppe        C       2\n",
      "296                          Laroche, Miss. Louise        C       2\n",
      "301                            Malachard, Mr. Noel        C       2\n",
      "361        Mallet, Mrs. Albert (Antoinette Magnin)        C       2\n",
      "369                  Pallas y Castello, Mr. Emilio        C       2\n",
      "405   Nourney, Mr. Alfred (Baron von Drachstedt\")\"        C       2\n"
     ]
    }
   ],
   "source": [
    "# 13. Passengers embarked from 'C' and in Class 2\n",
    "embarked_c_class2 = df[(df['Embarked'] == 'C') & (df['Pclass'] == 2)]\n",
    "print(\"\\nPassengers from port 'C' and Class 2:\\n\", embarked_c_class2[['Name', 'Embarked', 'Pclass']])"
   ]
  },
  {
   "cell_type": "code",
   "execution_count": 17,
   "id": "bec8174b-355c-4500-91a2-79492897f2b1",
   "metadata": {},
   "outputs": [
    {
     "name": "stdout",
     "output_type": "stream",
     "text": [
      "\n",
      "Passengers with more than 2 siblings/spouses aboard:\n",
      "                                        Name  SibSp\n",
      "53               Fortune, Miss. Ethel Flora      3\n",
      "55                     Rice, Master. Albert      4\n",
      "140             Goodwin, Miss. Jessie Allis      5\n",
      "145               Vander Planke, Mr. Julius      3\n",
      "154            Asplund, Master. Filip Oscar      4\n",
      "188                         Sage, Miss. Ada      8\n",
      "214  Andersson, Miss. Ida Augusta Margareta      4\n",
      "360             Sage, Master. William Henry      8\n",
      "379             Asplund, Master. Carl Edgar      4\n",
      "389             Palsson, Master. Paul Folke      3\n",
      "394                Kink-Heilmann, Mr. Anton      3\n"
     ]
    }
   ],
   "source": [
    "# 14. Passengers with more than 2 siblings/spouses aboard\n",
    "sibsp_gt2 = df[df['SibSp'] > 2]\n",
    "print(\"\\nPassengers with more than 2 siblings/spouses aboard:\\n\", sibsp_gt2[['Name', 'SibSp']])"
   ]
  },
  {
   "cell_type": "code",
   "execution_count": 18,
   "id": "1c98ecb8-25a0-41b2-ae25-a004cc1b618d",
   "metadata": {},
   "outputs": [
    {
     "name": "stdout",
     "output_type": "stream",
     "text": [
      "\n",
      "Did not survive and no family aboard:\n",
      "                                              Name  Survived  SibSp  Parch\n",
      "0                                Kelly, Mr. James         0      0      0\n",
      "2                       Myles, Mr. Thomas Francis         0      0      0\n",
      "3                                Wirz, Mr. Albert         0      0      0\n",
      "5                      Svensson, Mr. Johan Cervin         0      0      0\n",
      "10                               Ilieff, Mr. Ylio         0      0      0\n",
      "..                                            ...       ...    ...    ...\n",
      "403                        Carrau, Mr. Jose Pedro         0      0      0\n",
      "405  Nourney, Mr. Alfred (Baron von Drachstedt\")\"         0      0      0\n",
      "413                            Spector, Mr. Woolf         0      0      0\n",
      "415                  Saether, Mr. Simon Sivertsen         0      0      0\n",
      "416                           Ware, Mr. Frederick         0      0      0\n",
      "\n",
      "[185 rows x 4 columns]\n"
     ]
    }
   ],
   "source": [
    "# 15. Passengers who did not survive and had no family aboard\n",
    "no_family_nosurvive = df[(df['Survived'] == 0) & (df['SibSp'] == 0) & (df['Parch'] == 0)]\n",
    "print(\"\\nDid not survive and no family aboard:\\n\", no_family_nosurvive[['Name', 'Survived', 'SibSp', 'Parch']])"
   ]
  },
  {
   "cell_type": "code",
   "execution_count": 19,
   "id": "829538b8-1c76-4b9b-b566-f93ef8b89baa",
   "metadata": {},
   "outputs": [
    {
     "name": "stdout",
     "output_type": "stream",
     "text": [
      "\n",
      "Top 5 oldest passengers who survived:\n",
      "                                                   Name   Age\n",
      "96   Cavendish, Mrs. Tyrell William (Julia Florence...  76.0\n",
      "179  Compton, Mrs. Alexander Taylor (Mary Eliza Ing...  64.0\n",
      "305  Crosby, Mrs. Edward Gifford (Catherine Elizabe...  64.0\n",
      "114             Straus, Mrs. Isidor (Rosalie Ida Blun)  63.0\n",
      "48     Bucknell, Mrs. William Robert (Emma Eliza Ward)  60.0\n"
     ]
    }
   ],
   "source": [
    "# 16. Top 5 oldest passengers who survived\n",
    "oldest_survivors = df[df['Survived'] == 1].sort_values(by='Age', ascending=False).head(5)\n",
    "print(\"\\nTop 5 oldest passengers who survived:\\n\", oldest_survivors[['Name', 'Age']])\n"
   ]
  },
  {
   "cell_type": "code",
   "execution_count": 20,
   "id": "b92c58ac-7801-4243-b8ad-843c8e3c24d2",
   "metadata": {},
   "outputs": [
    {
     "name": "stdout",
     "output_type": "stream",
     "text": [
      "\n",
      "Passengers who paid zero fare:\n",
      "                                       Name  Fare\n",
      "266  Chisholm, Mr. Roderick Robert Crispin   0.0\n",
      "372                Ismay, Mr. Joseph Bruce   0.0\n"
     ]
    }
   ],
   "source": [
    "# 17. Passengers who paid zero fare\n",
    "zero_fare = df[df['Fare'] == 0]\n",
    "print(\"\\nPassengers who paid zero fare:\\n\", zero_fare[['Name', 'Fare']])"
   ]
  },
  {
   "cell_type": "code",
   "execution_count": 21,
   "id": "3c36f534-ec8c-49ec-bd82-1c6e76b8b1a3",
   "metadata": {},
   "outputs": [
    {
     "name": "stdout",
     "output_type": "stream",
     "text": [
      "\n",
      "Train shape: (334, 12)\n",
      "Test shape: (84, 12)\n"
     ]
    }
   ],
   "source": [
    "# 18. Split dataset for training and testing\n",
    "train_df, test_df = train_test_split(df, test_size=0.2, random_state=42)\n",
    "print(\"\\nTrain shape:\", train_df.shape)\n",
    "print(\"Test shape:\", test_df.shape)"
   ]
  },
  {
   "cell_type": "code",
   "execution_count": null,
   "id": "47787214-f971-4b46-ac4f-886cbe2c692c",
   "metadata": {},
   "outputs": [],
   "source": []
  }
 ],
 "metadata": {
  "kernelspec": {
   "display_name": "Python 3 (ipykernel)",
   "language": "python",
   "name": "python3"
  },
  "language_info": {
   "codemirror_mode": {
    "name": "ipython",
    "version": 3
   },
   "file_extension": ".py",
   "mimetype": "text/x-python",
   "name": "python",
   "nbconvert_exporter": "python",
   "pygments_lexer": "ipython3",
   "version": "3.12.7"
  }
 },
 "nbformat": 4,
 "nbformat_minor": 5
}
